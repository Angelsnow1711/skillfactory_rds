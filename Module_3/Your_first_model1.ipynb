{
 "cells": [
  {
   "cell_type": "markdown",
   "metadata": {},
   "source": [
    "# Очистка данных"
   ]
  },
  {
   "cell_type": "code",
   "execution_count": 19,
   "metadata": {},
   "outputs": [],
   "source": [
    "import warnings; warnings.simplefilter('ignore')\n",
    "import pandas as pd\n",
    "import matplotlib.pyplot as plt\n",
    "import seaborn as sns\n",
    "import numpy as np\n",
    "import os\n",
    "import re\n",
    "\n",
    "from itertools import combinations\n",
    "from scipy.stats import ttest_ind\n",
    "from datetime import datetime\n",
    "from plotly.offline import download_plotlyjs, init_notebook_mode, plot, iplot\n",
    "\n",
    "pd.set_option('display.max_rows', 50)  # показывать больше строк\n",
    "pd.set_option('display.max_columns', 50)  # показывать больше колонок\n",
    "\n",
    "# Загружаем специальный инструмент для разбивки:\n",
    "from sklearn.model_selection import train_test_split\n",
    "\n",
    "# Импортируем необходимые библиотеки:\n",
    "from sklearn.ensemble import RandomForestRegressor # инструмент для создания и обучения модели\n",
    "from sklearn import metrics # инструменты для оценки точности модели\n",
    "\n",
    "%matplotlib inline"
   ]
  },
  {
   "cell_type": "code",
   "execution_count": null,
   "metadata": {},
   "outputs": [],
   "source": [
    "Restaurant_id — идентификационный номер ресторана / сети ресторанов;\n",
    "\n",
    "City — город, в котором находится ресторан;\n",
    "\n",
    "Cuisine Style — кухня или кухни, к которым можно отнести блюда, предлагаемые в ресторане;\n",
    "\n",
    "Ranking — место, которое занимает данный ресторан среди всех ресторанов своего города;\n",
    "\n",
    "Rating — рейтинг ресторана по данным TripAdvisor (именно это значение должна будет предсказывать модель);\n",
    "\n",
    "Price Range — диапазон цен в ресторане;\n",
    "\n",
    "Number of Reviews — количество отзывов о ресторане;\n",
    "\n",
    "Reviews — данные о двух отзывах, которые отображаются на сайте ресторана;\n",
    "\n",
    "URL_TA — URL страницы ресторана на TripAdvosor;\n",
    "\n",
    "ID_TA — идентификатор ресторана в базе данных TripAdvisor."
   ]
  },
  {
   "cell_type": "code",
   "execution_count": 21,
   "metadata": {
    "scrolled": true
   },
   "outputs": [
    {
     "data": {
      "text/html": [
       "<div>\n",
       "<style scoped>\n",
       "    .dataframe tbody tr th:only-of-type {\n",
       "        vertical-align: middle;\n",
       "    }\n",
       "\n",
       "    .dataframe tbody tr th {\n",
       "        vertical-align: top;\n",
       "    }\n",
       "\n",
       "    .dataframe thead th {\n",
       "        text-align: right;\n",
       "    }\n",
       "</style>\n",
       "<table border=\"1\" class=\"dataframe\">\n",
       "  <thead>\n",
       "    <tr style=\"text-align: right;\">\n",
       "      <th></th>\n",
       "      <th>Restaurant_id</th>\n",
       "      <th>City</th>\n",
       "      <th>Cuisine Style</th>\n",
       "      <th>Ranking</th>\n",
       "      <th>Rating</th>\n",
       "      <th>Price Range</th>\n",
       "      <th>Number of Reviews</th>\n",
       "      <th>Reviews</th>\n",
       "      <th>URL_TA</th>\n",
       "      <th>ID_TA</th>\n",
       "    </tr>\n",
       "  </thead>\n",
       "  <tbody>\n",
       "    <tr>\n",
       "      <th>0</th>\n",
       "      <td>id_5569</td>\n",
       "      <td>Paris</td>\n",
       "      <td>['European', 'French', 'International']</td>\n",
       "      <td>5570.0</td>\n",
       "      <td>3.5</td>\n",
       "      <td>$$ - $$$</td>\n",
       "      <td>194.0</td>\n",
       "      <td>[['Good food at your doorstep', 'A good hotel ...</td>\n",
       "      <td>/Restaurant_Review-g187147-d1912643-Reviews-R_...</td>\n",
       "      <td>d1912643</td>\n",
       "    </tr>\n",
       "    <tr>\n",
       "      <th>1</th>\n",
       "      <td>id_1535</td>\n",
       "      <td>Stockholm</td>\n",
       "      <td>NaN</td>\n",
       "      <td>1537.0</td>\n",
       "      <td>4.0</td>\n",
       "      <td>NaN</td>\n",
       "      <td>10.0</td>\n",
       "      <td>[['Unique cuisine', 'Delicious Nepalese food']...</td>\n",
       "      <td>/Restaurant_Review-g189852-d7992032-Reviews-Bu...</td>\n",
       "      <td>d7992032</td>\n",
       "    </tr>\n",
       "    <tr>\n",
       "      <th>2</th>\n",
       "      <td>id_352</td>\n",
       "      <td>London</td>\n",
       "      <td>['Japanese', 'Sushi', 'Asian', 'Grill', 'Veget...</td>\n",
       "      <td>353.0</td>\n",
       "      <td>4.5</td>\n",
       "      <td>$$$$</td>\n",
       "      <td>688.0</td>\n",
       "      <td>[['Catch up with friends', 'Not exceptional'],...</td>\n",
       "      <td>/Restaurant_Review-g186338-d8632781-Reviews-RO...</td>\n",
       "      <td>d8632781</td>\n",
       "    </tr>\n",
       "    <tr>\n",
       "      <th>3</th>\n",
       "      <td>id_3456</td>\n",
       "      <td>Berlin</td>\n",
       "      <td>NaN</td>\n",
       "      <td>3458.0</td>\n",
       "      <td>5.0</td>\n",
       "      <td>NaN</td>\n",
       "      <td>3.0</td>\n",
       "      <td>[[], []]</td>\n",
       "      <td>/Restaurant_Review-g187323-d1358776-Reviews-Es...</td>\n",
       "      <td>d1358776</td>\n",
       "    </tr>\n",
       "    <tr>\n",
       "      <th>4</th>\n",
       "      <td>id_615</td>\n",
       "      <td>Munich</td>\n",
       "      <td>['German', 'Central European', 'Vegetarian Fri...</td>\n",
       "      <td>621.0</td>\n",
       "      <td>4.0</td>\n",
       "      <td>$$ - $$$</td>\n",
       "      <td>84.0</td>\n",
       "      <td>[['Best place to try a Bavarian food', 'Nice b...</td>\n",
       "      <td>/Restaurant_Review-g187309-d6864963-Reviews-Au...</td>\n",
       "      <td>d6864963</td>\n",
       "    </tr>\n",
       "    <tr>\n",
       "      <th>...</th>\n",
       "      <td>...</td>\n",
       "      <td>...</td>\n",
       "      <td>...</td>\n",
       "      <td>...</td>\n",
       "      <td>...</td>\n",
       "      <td>...</td>\n",
       "      <td>...</td>\n",
       "      <td>...</td>\n",
       "      <td>...</td>\n",
       "      <td>...</td>\n",
       "    </tr>\n",
       "    <tr>\n",
       "      <th>39995</th>\n",
       "      <td>id_499</td>\n",
       "      <td>Milan</td>\n",
       "      <td>['Italian', 'Vegetarian Friendly', 'Vegan Opti...</td>\n",
       "      <td>500.0</td>\n",
       "      <td>4.5</td>\n",
       "      <td>$$ - $$$</td>\n",
       "      <td>79.0</td>\n",
       "      <td>[['The real Italian experience!', 'Wonderful f...</td>\n",
       "      <td>/Restaurant_Review-g187849-d2104414-Reviews-Ro...</td>\n",
       "      <td>d2104414</td>\n",
       "    </tr>\n",
       "    <tr>\n",
       "      <th>39996</th>\n",
       "      <td>id_6340</td>\n",
       "      <td>Paris</td>\n",
       "      <td>['French', 'American', 'Bar', 'European', 'Veg...</td>\n",
       "      <td>6341.0</td>\n",
       "      <td>3.5</td>\n",
       "      <td>$$ - $$$</td>\n",
       "      <td>542.0</td>\n",
       "      <td>[['Parisian atmosphere', 'Bit pricey but inter...</td>\n",
       "      <td>/Restaurant_Review-g187147-d1800036-Reviews-La...</td>\n",
       "      <td>d1800036</td>\n",
       "    </tr>\n",
       "    <tr>\n",
       "      <th>39997</th>\n",
       "      <td>id_1649</td>\n",
       "      <td>Stockholm</td>\n",
       "      <td>['Japanese', 'Sushi']</td>\n",
       "      <td>1652.0</td>\n",
       "      <td>4.5</td>\n",
       "      <td>NaN</td>\n",
       "      <td>4.0</td>\n",
       "      <td>[['Good by swedish standards', 'A hidden jewel...</td>\n",
       "      <td>/Restaurant_Review-g189852-d947615-Reviews-Sus...</td>\n",
       "      <td>d947615</td>\n",
       "    </tr>\n",
       "    <tr>\n",
       "      <th>39998</th>\n",
       "      <td>id_640</td>\n",
       "      <td>Warsaw</td>\n",
       "      <td>['Polish', 'European', 'Eastern European', 'Ce...</td>\n",
       "      <td>641.0</td>\n",
       "      <td>4.0</td>\n",
       "      <td>$$ - $$$</td>\n",
       "      <td>70.0</td>\n",
       "      <td>[['Underground restaurant', 'Oldest Restaurant...</td>\n",
       "      <td>/Restaurant_Review-g274856-d1100838-Reviews-Ho...</td>\n",
       "      <td>d1100838</td>\n",
       "    </tr>\n",
       "    <tr>\n",
       "      <th>39999</th>\n",
       "      <td>id_4824</td>\n",
       "      <td>Milan</td>\n",
       "      <td>['Spanish']</td>\n",
       "      <td>4827.0</td>\n",
       "      <td>3.0</td>\n",
       "      <td>$$ - $$$</td>\n",
       "      <td>260.0</td>\n",
       "      <td>[['Average', 'Nice an informal'], ['01/31/2016...</td>\n",
       "      <td>/Restaurant_Review-g187849-d1109020-Reviews-Ta...</td>\n",
       "      <td>d1109020</td>\n",
       "    </tr>\n",
       "  </tbody>\n",
       "</table>\n",
       "<p>40000 rows × 10 columns</p>\n",
       "</div>"
      ],
      "text/plain": [
       "      Restaurant_id       City  \\\n",
       "0           id_5569      Paris   \n",
       "1           id_1535  Stockholm   \n",
       "2            id_352     London   \n",
       "3           id_3456     Berlin   \n",
       "4            id_615     Munich   \n",
       "...             ...        ...   \n",
       "39995        id_499      Milan   \n",
       "39996       id_6340      Paris   \n",
       "39997       id_1649  Stockholm   \n",
       "39998        id_640     Warsaw   \n",
       "39999       id_4824      Milan   \n",
       "\n",
       "                                           Cuisine Style  Ranking  Rating  \\\n",
       "0                ['European', 'French', 'International']   5570.0     3.5   \n",
       "1                                                    NaN   1537.0     4.0   \n",
       "2      ['Japanese', 'Sushi', 'Asian', 'Grill', 'Veget...    353.0     4.5   \n",
       "3                                                    NaN   3458.0     5.0   \n",
       "4      ['German', 'Central European', 'Vegetarian Fri...    621.0     4.0   \n",
       "...                                                  ...      ...     ...   \n",
       "39995  ['Italian', 'Vegetarian Friendly', 'Vegan Opti...    500.0     4.5   \n",
       "39996  ['French', 'American', 'Bar', 'European', 'Veg...   6341.0     3.5   \n",
       "39997                              ['Japanese', 'Sushi']   1652.0     4.5   \n",
       "39998  ['Polish', 'European', 'Eastern European', 'Ce...    641.0     4.0   \n",
       "39999                                        ['Spanish']   4827.0     3.0   \n",
       "\n",
       "      Price Range  Number of Reviews  \\\n",
       "0        $$ - $$$              194.0   \n",
       "1             NaN               10.0   \n",
       "2            $$$$              688.0   \n",
       "3             NaN                3.0   \n",
       "4        $$ - $$$               84.0   \n",
       "...           ...                ...   \n",
       "39995    $$ - $$$               79.0   \n",
       "39996    $$ - $$$              542.0   \n",
       "39997         NaN                4.0   \n",
       "39998    $$ - $$$               70.0   \n",
       "39999    $$ - $$$              260.0   \n",
       "\n",
       "                                                 Reviews  \\\n",
       "0      [['Good food at your doorstep', 'A good hotel ...   \n",
       "1      [['Unique cuisine', 'Delicious Nepalese food']...   \n",
       "2      [['Catch up with friends', 'Not exceptional'],...   \n",
       "3                                               [[], []]   \n",
       "4      [['Best place to try a Bavarian food', 'Nice b...   \n",
       "...                                                  ...   \n",
       "39995  [['The real Italian experience!', 'Wonderful f...   \n",
       "39996  [['Parisian atmosphere', 'Bit pricey but inter...   \n",
       "39997  [['Good by swedish standards', 'A hidden jewel...   \n",
       "39998  [['Underground restaurant', 'Oldest Restaurant...   \n",
       "39999  [['Average', 'Nice an informal'], ['01/31/2016...   \n",
       "\n",
       "                                                  URL_TA     ID_TA  \n",
       "0      /Restaurant_Review-g187147-d1912643-Reviews-R_...  d1912643  \n",
       "1      /Restaurant_Review-g189852-d7992032-Reviews-Bu...  d7992032  \n",
       "2      /Restaurant_Review-g186338-d8632781-Reviews-RO...  d8632781  \n",
       "3      /Restaurant_Review-g187323-d1358776-Reviews-Es...  d1358776  \n",
       "4      /Restaurant_Review-g187309-d6864963-Reviews-Au...  d6864963  \n",
       "...                                                  ...       ...  \n",
       "39995  /Restaurant_Review-g187849-d2104414-Reviews-Ro...  d2104414  \n",
       "39996  /Restaurant_Review-g187147-d1800036-Reviews-La...  d1800036  \n",
       "39997  /Restaurant_Review-g189852-d947615-Reviews-Sus...   d947615  \n",
       "39998  /Restaurant_Review-g274856-d1100838-Reviews-Ho...  d1100838  \n",
       "39999  /Restaurant_Review-g187849-d1109020-Reviews-Ta...  d1109020  \n",
       "\n",
       "[40000 rows x 10 columns]"
      ]
     },
     "execution_count": 21,
     "metadata": {},
     "output_type": "execute_result"
    }
   ],
   "source": [
    "df = pd.read_csv('main_task.csv')\n",
    "df"
   ]
  },
  {
   "cell_type": "code",
   "execution_count": 22,
   "metadata": {},
   "outputs": [
    {
     "name": "stdout",
     "output_type": "stream",
     "text": [
      "<class 'pandas.core.frame.DataFrame'>\n",
      "RangeIndex: 40000 entries, 0 to 39999\n",
      "Data columns (total 10 columns):\n",
      " #   Column             Non-Null Count  Dtype  \n",
      "---  ------             --------------  -----  \n",
      " 0   Restaurant_id      40000 non-null  object \n",
      " 1   City               40000 non-null  object \n",
      " 2   Cuisine Style      30717 non-null  object \n",
      " 3   Ranking            40000 non-null  float64\n",
      " 4   Rating             40000 non-null  float64\n",
      " 5   Price Range        26114 non-null  object \n",
      " 6   Number of Reviews  37457 non-null  float64\n",
      " 7   Reviews            40000 non-null  object \n",
      " 8   URL_TA             40000 non-null  object \n",
      " 9   ID_TA              40000 non-null  object \n",
      "dtypes: float64(3), object(7)\n",
      "memory usage: 3.1+ MB\n"
     ]
    }
   ],
   "source": [
    "df.info()"
   ]
  },
  {
   "cell_type": "markdown",
   "metadata": {},
   "source": [
    "# Функции"
   ]
  },
  {
   "cell_type": "code",
   "execution_count": 77,
   "metadata": {},
   "outputs": [],
   "source": [
    "#Заполнение значений наших новых столбцов\n",
    "def find_item(cell):\n",
    "    if item in cell:\n",
    "        return 1\n",
    "    return 0"
   ]
  },
  {
   "cell_type": "code",
   "execution_count": 78,
   "metadata": {},
   "outputs": [],
   "source": [
    "# плотность распределения переменных\n",
    "def get_boxplot(column):\n",
    "    fig, ax = plt.subplots(figsize=(14, 4))\n",
    "    sns.boxplot(x=column, y='rating',\n",
    "                data=df.loc[df.loc[:, column].isin(\n",
    "                    df.loc[:, column].value_counts().index[:])],\n",
    "                ax=ax)\n",
    "    plt.xticks(rotation=45)\n",
    "    ax.set_title('Boxplot for ' + column)\n",
    "    plt.show()"
   ]
  },
  {
   "cell_type": "code",
   "execution_count": 79,
   "metadata": {},
   "outputs": [],
   "source": [
    "# статистическая разница в распределении оценок по номинативным признакам, с помощью теста Стьюдента\n",
    "def get_stat_dif(column):\n",
    "    cols = df.loc[:, column].value_counts().index[:]\n",
    "    combinations_all = list(combinations(cols, 2))\n",
    "    for comb in combinations_all:\n",
    "        if ttest_ind(df.loc[df.loc[:, column] == comb[0], 'score'],\n",
    "                     df.loc[df.loc[:, column] == comb[1], 'score']).pvalue \\\n",
    "                <= 0.05/len(combinations_all):  # Учли поправку Бонферони\n",
    "            print('Найдены статистически значимые различия для колонки', column)\n",
    "            break"
   ]
  },
  {
   "cell_type": "code",
   "execution_count": 80,
   "metadata": {},
   "outputs": [],
   "source": [
    "# распределение признака числовых переменных и количество пустых строк\n",
    "def get_charts_col(column):\n",
    "    df[column].hist()\n",
    "    display(df[column].describe())\n",
    "    print('Количество заполненных значений - ' + str(df[column].count()) +\n",
    "          ' из 40000')"
   ]
  },
  {
   "cell_type": "code",
   "execution_count": 81,
   "metadata": {},
   "outputs": [],
   "source": [
    "# формул интерквартильного расстояния для фильтра выбросов\n",
    "def get_emission_filter(column, a=0, b=10):\n",
    "    median = df[column].median()\n",
    "    IQR = df[column].quantile(0.75) - df[column].quantile(0.25)\n",
    "    perc25 = df[column].quantile(0.25)\n",
    "    perc75 = df[column].quantile(0.75)\n",
    "    print('25-й перцентиль: {},'.format(perc25), '75-й перцентиль: {},'.format(perc75),\n",
    "          \"IQR: {}, \".format(IQR), \"Границы выбросов: [{f}, {l}].\".format(f=perc25 - 1.5*IQR, l=perc75 + 1.5*IQR))\n",
    "    df[column].loc[df[column].between(perc25 - 1.5*IQR, perc75 + 1.5*IQR)].hist(bins=10, range=(a, b),\n",
    "                                                                                              label='IQR')\n",
    "    plt.legend()"
   ]
  },
  {
   "cell_type": "code",
   "execution_count": 82,
   "metadata": {},
   "outputs": [
    {
     "data": {
      "text/html": [
       "<div>\n",
       "<style scoped>\n",
       "    .dataframe tbody tr th:only-of-type {\n",
       "        vertical-align: middle;\n",
       "    }\n",
       "\n",
       "    .dataframe tbody tr th {\n",
       "        vertical-align: top;\n",
       "    }\n",
       "\n",
       "    .dataframe thead th {\n",
       "        text-align: right;\n",
       "    }\n",
       "</style>\n",
       "<table border=\"1\" class=\"dataframe\">\n",
       "  <thead>\n",
       "    <tr style=\"text-align: right;\">\n",
       "      <th></th>\n",
       "      <th>restaurant_id</th>\n",
       "      <th>cuisine_style</th>\n",
       "      <th>ranking</th>\n",
       "      <th>rating</th>\n",
       "      <th>price_range</th>\n",
       "      <th>number_of_reviews</th>\n",
       "      <th>reviews</th>\n",
       "      <th>url_ta</th>\n",
       "      <th>id_ta</th>\n",
       "      <th>count_restaurant</th>\n",
       "      <th>cuisine_count</th>\n",
       "      <th>delta</th>\n",
       "      <th>delta_today</th>\n",
       "      <th>_creole</th>\n",
       "      <th>afghani</th>\n",
       "      <th>african</th>\n",
       "      <th>albanian</th>\n",
       "      <th>american</th>\n",
       "      <th>arabic</th>\n",
       "      <th>argentinean</th>\n",
       "      <th>armenian</th>\n",
       "      <th>asian</th>\n",
       "      <th>australian</th>\n",
       "      <th>austrian</th>\n",
       "      <th>azerbaijani</th>\n",
       "      <th>...</th>\n",
       "      <th>'sri_lankan'</th>\n",
       "      <th>'cambodian'</th>\n",
       "      <th>'albanian'</th>\n",
       "      <th>'new_zealand'</th>\n",
       "      <th>'croatian'</th>\n",
       "      <th>'central_asian'</th>\n",
       "      <th>'filipino'</th>\n",
       "      <th>'tunisian'</th>\n",
       "      <th>'cajun_&amp;_creole'</th>\n",
       "      <th>'romanian'</th>\n",
       "      <th>'georgian'</th>\n",
       "      <th>'polynesian'</th>\n",
       "      <th>'azerbaijani'</th>\n",
       "      <th>'caucasian'</th>\n",
       "      <th>'afghani'</th>\n",
       "      <th>'uzbek'</th>\n",
       "      <th>'salvadoran'</th>\n",
       "      <th>'yunnan'</th>\n",
       "      <th>'native_american'</th>\n",
       "      <th>'canadian'</th>\n",
       "      <th>'xinjiang'</th>\n",
       "      <th>'burmese'</th>\n",
       "      <th>'fujian'</th>\n",
       "      <th>'welsh'</th>\n",
       "      <th>'latvian'</th>\n",
       "    </tr>\n",
       "  </thead>\n",
       "  <tbody>\n",
       "    <tr>\n",
       "      <th>0</th>\n",
       "      <td>id_5569</td>\n",
       "      <td>[European, French, International]</td>\n",
       "      <td>5570.0</td>\n",
       "      <td>3.5</td>\n",
       "      <td>2</td>\n",
       "      <td>194.0</td>\n",
       "      <td>[['Good food at your doorstep', 'A good hotel ...</td>\n",
       "      <td>/Restaurant_Review-g187147-d1912643-Reviews-R_...</td>\n",
       "      <td>d1912643</td>\n",
       "      <td>3</td>\n",
       "      <td>3.0</td>\n",
       "      <td>41</td>\n",
       "      <td>1242</td>\n",
       "      <td>0</td>\n",
       "      <td>0</td>\n",
       "      <td>0</td>\n",
       "      <td>0</td>\n",
       "      <td>0</td>\n",
       "      <td>0</td>\n",
       "      <td>0</td>\n",
       "      <td>0</td>\n",
       "      <td>0</td>\n",
       "      <td>0</td>\n",
       "      <td>0</td>\n",
       "      <td>0</td>\n",
       "      <td>...</td>\n",
       "      <td>0</td>\n",
       "      <td>0</td>\n",
       "      <td>0</td>\n",
       "      <td>0</td>\n",
       "      <td>0</td>\n",
       "      <td>0</td>\n",
       "      <td>0</td>\n",
       "      <td>0</td>\n",
       "      <td>0</td>\n",
       "      <td>0</td>\n",
       "      <td>0</td>\n",
       "      <td>0</td>\n",
       "      <td>0</td>\n",
       "      <td>0</td>\n",
       "      <td>0</td>\n",
       "      <td>0</td>\n",
       "      <td>0</td>\n",
       "      <td>0</td>\n",
       "      <td>0</td>\n",
       "      <td>0</td>\n",
       "      <td>0</td>\n",
       "      <td>0</td>\n",
       "      <td>0</td>\n",
       "      <td>0</td>\n",
       "      <td>0</td>\n",
       "    </tr>\n",
       "    <tr>\n",
       "      <th>0</th>\n",
       "      <td>id_5569</td>\n",
       "      <td>[European, French, International]</td>\n",
       "      <td>5570.0</td>\n",
       "      <td>3.5</td>\n",
       "      <td>2</td>\n",
       "      <td>194.0</td>\n",
       "      <td>[['Good food at your doorstep', 'A good hotel ...</td>\n",
       "      <td>/Restaurant_Review-g187147-d1912643-Reviews-R_...</td>\n",
       "      <td>d1912643</td>\n",
       "      <td>3</td>\n",
       "      <td>3.0</td>\n",
       "      <td>41</td>\n",
       "      <td>1242</td>\n",
       "      <td>0</td>\n",
       "      <td>0</td>\n",
       "      <td>0</td>\n",
       "      <td>0</td>\n",
       "      <td>0</td>\n",
       "      <td>0</td>\n",
       "      <td>0</td>\n",
       "      <td>0</td>\n",
       "      <td>0</td>\n",
       "      <td>0</td>\n",
       "      <td>0</td>\n",
       "      <td>0</td>\n",
       "      <td>...</td>\n",
       "      <td>0</td>\n",
       "      <td>0</td>\n",
       "      <td>0</td>\n",
       "      <td>0</td>\n",
       "      <td>0</td>\n",
       "      <td>0</td>\n",
       "      <td>0</td>\n",
       "      <td>0</td>\n",
       "      <td>0</td>\n",
       "      <td>0</td>\n",
       "      <td>0</td>\n",
       "      <td>0</td>\n",
       "      <td>0</td>\n",
       "      <td>0</td>\n",
       "      <td>0</td>\n",
       "      <td>0</td>\n",
       "      <td>0</td>\n",
       "      <td>0</td>\n",
       "      <td>0</td>\n",
       "      <td>0</td>\n",
       "      <td>0</td>\n",
       "      <td>0</td>\n",
       "      <td>0</td>\n",
       "      <td>0</td>\n",
       "      <td>0</td>\n",
       "    </tr>\n",
       "  </tbody>\n",
       "</table>\n",
       "<p>2 rows × 353 columns</p>\n",
       "</div>"
      ],
      "text/plain": [
       "  restaurant_id                      cuisine_style  ranking  rating  \\\n",
       "0       id_5569  [European, French, International]   5570.0     3.5   \n",
       "0       id_5569  [European, French, International]   5570.0     3.5   \n",
       "\n",
       "   price_range  number_of_reviews  \\\n",
       "0            2              194.0   \n",
       "0            2              194.0   \n",
       "\n",
       "                                             reviews  \\\n",
       "0  [['Good food at your doorstep', 'A good hotel ...   \n",
       "0  [['Good food at your doorstep', 'A good hotel ...   \n",
       "\n",
       "                                              url_ta     id_ta  \\\n",
       "0  /Restaurant_Review-g187147-d1912643-Reviews-R_...  d1912643   \n",
       "0  /Restaurant_Review-g187147-d1912643-Reviews-R_...  d1912643   \n",
       "\n",
       "   count_restaurant  cuisine_count  delta  delta_today  _creole  afghani  \\\n",
       "0                 3            3.0     41         1242        0        0   \n",
       "0                 3            3.0     41         1242        0        0   \n",
       "\n",
       "   african  albanian  american  arabic  argentinean  armenian  asian  \\\n",
       "0        0         0         0       0            0         0      0   \n",
       "0        0         0         0       0            0         0      0   \n",
       "\n",
       "   australian  austrian  azerbaijani  ...  'sri_lankan'  'cambodian'  \\\n",
       "0           0         0            0  ...             0            0   \n",
       "0           0         0            0  ...             0            0   \n",
       "\n",
       "   'albanian'  'new_zealand'  'croatian'  'central_asian'  'filipino'  \\\n",
       "0           0              0           0                0           0   \n",
       "0           0              0           0                0           0   \n",
       "\n",
       "   'tunisian'  'cajun_&_creole'  'romanian'  'georgian'  'polynesian'  \\\n",
       "0           0                 0           0           0             0   \n",
       "0           0                 0           0           0             0   \n",
       "\n",
       "   'azerbaijani'  'caucasian'  'afghani'  'uzbek'  'salvadoran'  'yunnan'  \\\n",
       "0              0            0          0        0             0         0   \n",
       "0              0            0          0        0             0         0   \n",
       "\n",
       "   'native_american'  'canadian'  'xinjiang'  'burmese'  'fujian'  'welsh'  \\\n",
       "0                  0           0           0          0         0        0   \n",
       "0                  0           0           0          0         0        0   \n",
       "\n",
       "   'latvian'  \n",
       "0          0  \n",
       "0          0  \n",
       "\n",
       "[2 rows x 353 columns]"
      ]
     },
     "execution_count": 82,
     "metadata": {},
     "output_type": "execute_result"
    }
   ],
   "source": [
    "#Названия столбцов приведем к нижнему регистру и заменим пробелы в названиях на нижнее подчеркивание\n",
    "df.columns = df.columns.str.lower()\n",
    "df.columns = [str(x).replace(' ', '_') for x in df.columns]\n",
    "df.head(2)"
   ]
  },
  {
   "cell_type": "code",
   "execution_count": 83,
   "metadata": {},
   "outputs": [
    {
     "name": "stdout",
     "output_type": "stream",
     "text": [
      "------------------------------------------------------------\n",
      "\t Отчет по колонке [ restaurant_id ] \t\t\t\t\t\n",
      "------------------------------------------------------------\n",
      "Значений, встретившихся в столбце более 10 раз: 2879\n",
      "Уникальных значений: 11909\n",
      "Все уникальные значения: ['id_5569' 'id_1535' 'id_352' ... 'id_7068' 'id_8887' 'id_6057'] \n",
      "\n"
     ]
    },
    {
     "data": {
      "text/html": [
       "<div>\n",
       "<style scoped>\n",
       "    .dataframe tbody tr th:only-of-type {\n",
       "        vertical-align: middle;\n",
       "    }\n",
       "\n",
       "    .dataframe tbody tr th {\n",
       "        vertical-align: top;\n",
       "    }\n",
       "\n",
       "    .dataframe thead th {\n",
       "        text-align: right;\n",
       "    }\n",
       "</style>\n",
       "<table border=\"1\" class=\"dataframe\">\n",
       "  <thead>\n",
       "    <tr style=\"text-align: right;\">\n",
       "      <th></th>\n",
       "      <th>restaurant_id</th>\n",
       "    </tr>\n",
       "  </thead>\n",
       "  <tbody>\n",
       "    <tr>\n",
       "      <th>id_71</th>\n",
       "      <td>93</td>\n",
       "    </tr>\n",
       "    <tr>\n",
       "      <th>id_227</th>\n",
       "      <td>89</td>\n",
       "    </tr>\n",
       "    <tr>\n",
       "      <th>id_38</th>\n",
       "      <td>87</td>\n",
       "    </tr>\n",
       "    <tr>\n",
       "      <th>id_79</th>\n",
       "      <td>86</td>\n",
       "    </tr>\n",
       "    <tr>\n",
       "      <th>id_54</th>\n",
       "      <td>85</td>\n",
       "    </tr>\n",
       "    <tr>\n",
       "      <th>...</th>\n",
       "      <td>...</td>\n",
       "    </tr>\n",
       "    <tr>\n",
       "      <th>id_10211</th>\n",
       "      <td>1</td>\n",
       "    </tr>\n",
       "    <tr>\n",
       "      <th>id_5330</th>\n",
       "      <td>1</td>\n",
       "    </tr>\n",
       "    <tr>\n",
       "      <th>id_12426</th>\n",
       "      <td>1</td>\n",
       "    </tr>\n",
       "    <tr>\n",
       "      <th>id_4268</th>\n",
       "      <td>1</td>\n",
       "    </tr>\n",
       "    <tr>\n",
       "      <th>id_10414</th>\n",
       "      <td>1</td>\n",
       "    </tr>\n",
       "  </tbody>\n",
       "</table>\n",
       "<p>11909 rows × 1 columns</p>\n",
       "</div>"
      ],
      "text/plain": [
       "          restaurant_id\n",
       "id_71                93\n",
       "id_227               89\n",
       "id_38                87\n",
       "id_79                86\n",
       "id_54                85\n",
       "...                 ...\n",
       "id_10211              1\n",
       "id_5330               1\n",
       "id_12426              1\n",
       "id_4268               1\n",
       "id_10414              1\n",
       "\n",
       "[11909 rows x 1 columns]"
      ]
     },
     "metadata": {},
     "output_type": "display_data"
    },
    {
     "name": "stdout",
     "output_type": "stream",
     "text": [
      "------------------------------------------------------------\n",
      "\t Отчет по колонке [ cuisine_style ] \t\t\t\t\t\n",
      "------------------------------------------------------------\n",
      "Значений, встретившихся в столбце более 10 раз: 1161\n"
     ]
    },
    {
     "ename": "TypeError",
     "evalue": "unhashable type: 'list'",
     "output_type": "error",
     "traceback": [
      "\u001b[1;31m---------------------------------------------------------------------------\u001b[0m",
      "\u001b[1;31mTypeError\u001b[0m                                 Traceback (most recent call last)",
      "\u001b[1;32m<ipython-input-83-9aea0e6375c8>\u001b[0m in \u001b[0;36m<module>\u001b[1;34m\u001b[0m\n\u001b[0;32m      6\u001b[0m     print(\"Значений, встретившихся в столбце более 10 раз:\",\n\u001b[0;32m      7\u001b[0m           (df[column].value_counts() > 10).sum())\n\u001b[1;32m----> 8\u001b[1;33m     \u001b[0mprint\u001b[0m\u001b[1;33m(\u001b[0m\u001b[1;34m\"Уникальных значений:\"\u001b[0m\u001b[1;33m,\u001b[0m \u001b[0mdf\u001b[0m\u001b[1;33m[\u001b[0m\u001b[0mcolumn\u001b[0m\u001b[1;33m]\u001b[0m\u001b[1;33m.\u001b[0m\u001b[0mnunique\u001b[0m\u001b[1;33m(\u001b[0m\u001b[1;33m)\u001b[0m\u001b[1;33m)\u001b[0m\u001b[1;33m\u001b[0m\u001b[1;33m\u001b[0m\u001b[0m\n\u001b[0m\u001b[0;32m      9\u001b[0m     \u001b[0mprint\u001b[0m\u001b[1;33m(\u001b[0m\u001b[1;34m'Все уникальные значения:'\u001b[0m\u001b[1;33m,\u001b[0m \u001b[0mdf\u001b[0m\u001b[1;33m[\u001b[0m\u001b[0mcolumn\u001b[0m\u001b[1;33m]\u001b[0m\u001b[1;33m.\u001b[0m\u001b[0munique\u001b[0m\u001b[1;33m(\u001b[0m\u001b[1;33m)\u001b[0m \u001b[1;33m,\u001b[0m \u001b[1;34m'\\n'\u001b[0m\u001b[1;33m)\u001b[0m\u001b[1;33m\u001b[0m\u001b[1;33m\u001b[0m\u001b[0m\n\u001b[0;32m     10\u001b[0m \u001b[1;33m\u001b[0m\u001b[0m\n",
      "\u001b[1;32m~\\anaconda3\\lib\\site-packages\\pandas\\core\\base.py\u001b[0m in \u001b[0;36mnunique\u001b[1;34m(self, dropna)\u001b[0m\n\u001b[0;32m   1301\u001b[0m         \u001b[1;36m4\u001b[0m\u001b[1;33m\u001b[0m\u001b[1;33m\u001b[0m\u001b[0m\n\u001b[0;32m   1302\u001b[0m         \"\"\"\n\u001b[1;32m-> 1303\u001b[1;33m         \u001b[0muniqs\u001b[0m \u001b[1;33m=\u001b[0m \u001b[0mself\u001b[0m\u001b[1;33m.\u001b[0m\u001b[0munique\u001b[0m\u001b[1;33m(\u001b[0m\u001b[1;33m)\u001b[0m\u001b[1;33m\u001b[0m\u001b[1;33m\u001b[0m\u001b[0m\n\u001b[0m\u001b[0;32m   1304\u001b[0m         \u001b[0mn\u001b[0m \u001b[1;33m=\u001b[0m \u001b[0mlen\u001b[0m\u001b[1;33m(\u001b[0m\u001b[0muniqs\u001b[0m\u001b[1;33m)\u001b[0m\u001b[1;33m\u001b[0m\u001b[1;33m\u001b[0m\u001b[0m\n\u001b[0;32m   1305\u001b[0m         \u001b[1;32mif\u001b[0m \u001b[0mdropna\u001b[0m \u001b[1;32mand\u001b[0m \u001b[0misna\u001b[0m\u001b[1;33m(\u001b[0m\u001b[0muniqs\u001b[0m\u001b[1;33m)\u001b[0m\u001b[1;33m.\u001b[0m\u001b[0many\u001b[0m\u001b[1;33m(\u001b[0m\u001b[1;33m)\u001b[0m\u001b[1;33m:\u001b[0m\u001b[1;33m\u001b[0m\u001b[1;33m\u001b[0m\u001b[0m\n",
      "\u001b[1;32m~\\anaconda3\\lib\\site-packages\\pandas\\core\\series.py\u001b[0m in \u001b[0;36munique\u001b[1;34m(self)\u001b[0m\n\u001b[0;32m   1866\u001b[0m         \u001b[0mCategories\u001b[0m \u001b[1;33m(\u001b[0m\u001b[1;36m3\u001b[0m\u001b[1;33m,\u001b[0m \u001b[0mobject\u001b[0m\u001b[1;33m)\u001b[0m\u001b[1;33m:\u001b[0m \u001b[1;33m[\u001b[0m\u001b[1;34m'a'\u001b[0m \u001b[1;33m<\u001b[0m \u001b[1;34m'b'\u001b[0m \u001b[1;33m<\u001b[0m \u001b[1;34m'c'\u001b[0m\u001b[1;33m]\u001b[0m\u001b[1;33m\u001b[0m\u001b[1;33m\u001b[0m\u001b[0m\n\u001b[0;32m   1867\u001b[0m         \"\"\"\n\u001b[1;32m-> 1868\u001b[1;33m         \u001b[0mresult\u001b[0m \u001b[1;33m=\u001b[0m \u001b[0msuper\u001b[0m\u001b[1;33m(\u001b[0m\u001b[1;33m)\u001b[0m\u001b[1;33m.\u001b[0m\u001b[0munique\u001b[0m\u001b[1;33m(\u001b[0m\u001b[1;33m)\u001b[0m\u001b[1;33m\u001b[0m\u001b[1;33m\u001b[0m\u001b[0m\n\u001b[0m\u001b[0;32m   1869\u001b[0m         \u001b[1;32mreturn\u001b[0m \u001b[0mresult\u001b[0m\u001b[1;33m\u001b[0m\u001b[1;33m\u001b[0m\u001b[0m\n\u001b[0;32m   1870\u001b[0m \u001b[1;33m\u001b[0m\u001b[0m\n",
      "\u001b[1;32m~\\anaconda3\\lib\\site-packages\\pandas\\core\\base.py\u001b[0m in \u001b[0;36munique\u001b[1;34m(self)\u001b[0m\n\u001b[0;32m   1263\u001b[0m                     \u001b[0mresult\u001b[0m \u001b[1;33m=\u001b[0m \u001b[0mnp\u001b[0m\u001b[1;33m.\u001b[0m\u001b[0masarray\u001b[0m\u001b[1;33m(\u001b[0m\u001b[0mresult\u001b[0m\u001b[1;33m)\u001b[0m\u001b[1;33m\u001b[0m\u001b[1;33m\u001b[0m\u001b[0m\n\u001b[0;32m   1264\u001b[0m         \u001b[1;32melse\u001b[0m\u001b[1;33m:\u001b[0m\u001b[1;33m\u001b[0m\u001b[1;33m\u001b[0m\u001b[0m\n\u001b[1;32m-> 1265\u001b[1;33m             \u001b[0mresult\u001b[0m \u001b[1;33m=\u001b[0m \u001b[0munique1d\u001b[0m\u001b[1;33m(\u001b[0m\u001b[0mvalues\u001b[0m\u001b[1;33m)\u001b[0m\u001b[1;33m\u001b[0m\u001b[1;33m\u001b[0m\u001b[0m\n\u001b[0m\u001b[0;32m   1266\u001b[0m \u001b[1;33m\u001b[0m\u001b[0m\n\u001b[0;32m   1267\u001b[0m         \u001b[1;32mreturn\u001b[0m \u001b[0mresult\u001b[0m\u001b[1;33m\u001b[0m\u001b[1;33m\u001b[0m\u001b[0m\n",
      "\u001b[1;32m~\\anaconda3\\lib\\site-packages\\pandas\\core\\algorithms.py\u001b[0m in \u001b[0;36munique\u001b[1;34m(values)\u001b[0m\n\u001b[0;32m    387\u001b[0m \u001b[1;33m\u001b[0m\u001b[0m\n\u001b[0;32m    388\u001b[0m     \u001b[0mtable\u001b[0m \u001b[1;33m=\u001b[0m \u001b[0mhtable\u001b[0m\u001b[1;33m(\u001b[0m\u001b[0mlen\u001b[0m\u001b[1;33m(\u001b[0m\u001b[0mvalues\u001b[0m\u001b[1;33m)\u001b[0m\u001b[1;33m)\u001b[0m\u001b[1;33m\u001b[0m\u001b[1;33m\u001b[0m\u001b[0m\n\u001b[1;32m--> 389\u001b[1;33m     \u001b[0muniques\u001b[0m \u001b[1;33m=\u001b[0m \u001b[0mtable\u001b[0m\u001b[1;33m.\u001b[0m\u001b[0munique\u001b[0m\u001b[1;33m(\u001b[0m\u001b[0mvalues\u001b[0m\u001b[1;33m)\u001b[0m\u001b[1;33m\u001b[0m\u001b[1;33m\u001b[0m\u001b[0m\n\u001b[0m\u001b[0;32m    390\u001b[0m     \u001b[0muniques\u001b[0m \u001b[1;33m=\u001b[0m \u001b[0m_reconstruct_data\u001b[0m\u001b[1;33m(\u001b[0m\u001b[0muniques\u001b[0m\u001b[1;33m,\u001b[0m \u001b[0moriginal\u001b[0m\u001b[1;33m.\u001b[0m\u001b[0mdtype\u001b[0m\u001b[1;33m,\u001b[0m \u001b[0moriginal\u001b[0m\u001b[1;33m)\u001b[0m\u001b[1;33m\u001b[0m\u001b[1;33m\u001b[0m\u001b[0m\n\u001b[0;32m    391\u001b[0m     \u001b[1;32mreturn\u001b[0m \u001b[0muniques\u001b[0m\u001b[1;33m\u001b[0m\u001b[1;33m\u001b[0m\u001b[0m\n",
      "\u001b[1;32mpandas\\_libs\\hashtable_class_helper.pxi\u001b[0m in \u001b[0;36mpandas._libs.hashtable.PyObjectHashTable.unique\u001b[1;34m()\u001b[0m\n",
      "\u001b[1;32mpandas\\_libs\\hashtable_class_helper.pxi\u001b[0m in \u001b[0;36mpandas._libs.hashtable.PyObjectHashTable._unique\u001b[1;34m()\u001b[0m\n",
      "\u001b[1;31mTypeError\u001b[0m: unhashable type: 'list'"
     ]
    }
   ],
   "source": [
    "#Выведем уникальные значения в столбцах и значения, встретившиеся более 10 раз.\n",
    "for column in df.columns:\n",
    "    print('-'*60)\n",
    "    print('\\t' , 'Отчет по колонке [', column, ']', '\\t'*5)\n",
    "    print('-'*60)\n",
    "    print(\"Значений, встретившихся в столбце более 10 раз:\",\n",
    "          (df[column].value_counts() > 10).sum())\n",
    "    print(\"Уникальных значений:\", df[column].nunique())\n",
    "    print('Все уникальные значения:', df[column].unique() , '\\n')\n",
    "            \n",
    "    display(pd.DataFrame(df[column].value_counts()))"
   ]
  },
  {
   "cell_type": "code",
   "execution_count": null,
   "metadata": {},
   "outputs": [],
   "source": [
    "#обнаружила, что ID_TA имеет задвоенности, просмотрим что у нас там.\n",
    "id_ta2 = (df.id_ta.value_counts() > 1)[:20].index\n",
    "df.loc[df.id_ta.isin(id_ta2)].sort_values(['id_ta'],ascending=False)\n",
    "#в дублях у нас отличаются restaurant_id и ranking - остальные одинаковые поля"
   ]
  },
  {
   "cell_type": "code",
   "execution_count": null,
   "metadata": {},
   "outputs": [],
   "source": [
    "# Убираем Nan в столбцах по количеству отзывов и место, занимаемое рестораном - ставим среднее значение\n",
    "# по городу\n",
    "df['number_of_reviews'].fillna(0, inplace=True)\n",
    "mean_number = round(df.groupby('city')['number_of_reviews'].mean(),0)\n",
    "df['number_of_reviews'] = df.apply(lambda row: mean_number[row['city']] if row['number_of_reviews'] == 0 else row['number_of_reviews'], axis=1)\n",
    "get_emission_filter('number_of_reviews')\n",
    "get_charts_col('number_of_reviews')"
   ]
  },
  {
   "cell_type": "code",
   "execution_count": 84,
   "metadata": {},
   "outputs": [
    {
     "name": "stdout",
     "output_type": "stream",
     "text": [
      "25-й перцентиль: 9.0, 75-й перцентиль: 39.0, IQR: 30.0,  Границы выбросов: [-36.0, 84.0].\n"
     ]
    },
    {
     "data": {
      "text/plain": [
       "count    104916.000000\n",
       "mean         25.556807\n",
       "std          19.784692\n",
       "min           1.000000\n",
       "25%           9.000000\n",
       "50%          21.000000\n",
       "75%          39.000000\n",
       "max          93.000000\n",
       "Name: count_restaurant, dtype: float64"
      ]
     },
     "metadata": {},
     "output_type": "display_data"
    },
    {
     "name": "stdout",
     "output_type": "stream",
     "text": [
      "Количество заполненных значений - 104916 из 40000\n"
     ]
    },
    {
     "data": {
      "image/png": "[encoded data removed]",
      "text/plain": [
       "<Figure size 432x288 with 1 Axes>"
      ]
     },
     "metadata": {
      "needs_background": "light"
     },
     "output_type": "display_data"
    }
   ],
   "source": [
    "#Посмотрим, сколько у нас сетей рестаранов и создадим новый признак\n",
    "net_restaurant = df.groupby(['restaurant_id']).restaurant_id.count().sort_values(ascending=False)\n",
    "df['count_restaurant'] = df.apply(lambda row: net_restaurant[row['restaurant_id']], axis=1)\n",
    "        # MAE: 0.09460565192527635\n",
    "get_emission_filter('count_restaurant')\n",
    "get_charts_col('count_restaurant')"
   ]
  },
  {
   "cell_type": "code",
   "execution_count": 85,
   "metadata": {},
   "outputs": [
    {
     "data": {
      "text/plain": [
       "11909"
      ]
     },
     "execution_count": 85,
     "metadata": {},
     "output_type": "execute_result"
    }
   ],
   "source": [
    "#cписок id ресторанов \n",
    "list_id = list(df.groupby(['restaurant_id']).restaurant_id.count().index)\n",
    "len(list_id)"
   ]
  },
  {
   "cell_type": "code",
   "execution_count": 86,
   "metadata": {},
   "outputs": [
    {
     "name": "stdout",
     "output_type": "stream",
     "text": [
      "25-й перцентиль: 0.0, 75-й перцентиль: 0.0, IQR: 0.0,  Границы выбросов: [0.0, 0.0].\n"
     ]
    },
    {
     "data": {
      "text/plain": [
       "count    104916.0\n",
       "mean          0.0\n",
       "std           0.0\n",
       "min           0.0\n",
       "25%           0.0\n",
       "50%           0.0\n",
       "75%           0.0\n",
       "max           0.0\n",
       "Name: cuisine_count, dtype: float64"
      ]
     },
     "metadata": {},
     "output_type": "display_data"
    },
    {
     "name": "stdout",
     "output_type": "stream",
     "text": [
      "Количество заполненных значений - 104916 из 40000\n"
     ]
    },
    {
     "data": {
      "image/png": "[encoded data removed]",
      "text/plain": [
       "<Figure size 432x288 with 1 Axes>"
      ]
     },
     "metadata": {
      "needs_background": "light"
     },
     "output_type": "display_data"
    }
   ],
   "source": [
    "#Создадим столбец с количеством кухонь в ресторане\n",
    "df['cuisine_count'] = df['cuisine_style'].str.count(',')+1\n",
    "df['cuisine_count'].fillna(0, inplace=True)\n",
    "# MAE: 0.099889439573008\n",
    "get_emission_filter('cuisine_count')\n",
    "get_charts_col('cuisine_count')"
   ]
  },
  {
   "cell_type": "code",
   "execution_count": 87,
   "metadata": {},
   "outputs": [
    {
     "data": {
      "text/html": [
       "<div>\n",
       "<style scoped>\n",
       "    .dataframe tbody tr th:only-of-type {\n",
       "        vertical-align: middle;\n",
       "    }\n",
       "\n",
       "    .dataframe tbody tr th {\n",
       "        vertical-align: top;\n",
       "    }\n",
       "\n",
       "    .dataframe thead th {\n",
       "        text-align: right;\n",
       "    }\n",
       "</style>\n",
       "<table border=\"1\" class=\"dataframe\">\n",
       "  <thead>\n",
       "    <tr style=\"text-align: right;\">\n",
       "      <th></th>\n",
       "      <th>restaurant_id</th>\n",
       "      <th>cuisine_style</th>\n",
       "      <th>ranking</th>\n",
       "      <th>rating</th>\n",
       "      <th>price_range</th>\n",
       "      <th>number_of_reviews</th>\n",
       "      <th>reviews</th>\n",
       "      <th>url_ta</th>\n",
       "      <th>id_ta</th>\n",
       "      <th>count_restaurant</th>\n",
       "      <th>cuisine_count</th>\n",
       "      <th>delta</th>\n",
       "      <th>delta_today</th>\n",
       "      <th>_creole</th>\n",
       "      <th>afghani</th>\n",
       "      <th>african</th>\n",
       "      <th>albanian</th>\n",
       "      <th>american</th>\n",
       "      <th>arabic</th>\n",
       "      <th>argentinean</th>\n",
       "      <th>armenian</th>\n",
       "      <th>asian</th>\n",
       "      <th>australian</th>\n",
       "      <th>austrian</th>\n",
       "      <th>azerbaijani</th>\n",
       "      <th>...</th>\n",
       "      <th>'sri_lankan'</th>\n",
       "      <th>'cambodian'</th>\n",
       "      <th>'albanian'</th>\n",
       "      <th>'new_zealand'</th>\n",
       "      <th>'croatian'</th>\n",
       "      <th>'central_asian'</th>\n",
       "      <th>'filipino'</th>\n",
       "      <th>'tunisian'</th>\n",
       "      <th>'cajun_&amp;_creole'</th>\n",
       "      <th>'romanian'</th>\n",
       "      <th>'georgian'</th>\n",
       "      <th>'polynesian'</th>\n",
       "      <th>'azerbaijani'</th>\n",
       "      <th>'caucasian'</th>\n",
       "      <th>'afghani'</th>\n",
       "      <th>'uzbek'</th>\n",
       "      <th>'salvadoran'</th>\n",
       "      <th>'yunnan'</th>\n",
       "      <th>'native_american'</th>\n",
       "      <th>'canadian'</th>\n",
       "      <th>'xinjiang'</th>\n",
       "      <th>'burmese'</th>\n",
       "      <th>'fujian'</th>\n",
       "      <th>'welsh'</th>\n",
       "      <th>'latvian'</th>\n",
       "    </tr>\n",
       "  </thead>\n",
       "  <tbody>\n",
       "    <tr>\n",
       "      <th>0</th>\n",
       "      <td>id_5569</td>\n",
       "      <td>[European, French, International]</td>\n",
       "      <td>5570.0</td>\n",
       "      <td>3.5</td>\n",
       "      <td>2</td>\n",
       "      <td>194.0</td>\n",
       "      <td>[['Good food at your doorstep', 'A good hotel ...</td>\n",
       "      <td>/Restaurant_Review-g187147-d1912643-Reviews-R_...</td>\n",
       "      <td>d1912643</td>\n",
       "      <td>9</td>\n",
       "      <td>0.0</td>\n",
       "      <td>41</td>\n",
       "      <td>1242</td>\n",
       "      <td>0</td>\n",
       "      <td>0</td>\n",
       "      <td>0</td>\n",
       "      <td>0</td>\n",
       "      <td>0</td>\n",
       "      <td>0</td>\n",
       "      <td>0</td>\n",
       "      <td>0</td>\n",
       "      <td>0</td>\n",
       "      <td>0</td>\n",
       "      <td>0</td>\n",
       "      <td>0</td>\n",
       "      <td>...</td>\n",
       "      <td>0</td>\n",
       "      <td>0</td>\n",
       "      <td>0</td>\n",
       "      <td>0</td>\n",
       "      <td>0</td>\n",
       "      <td>0</td>\n",
       "      <td>0</td>\n",
       "      <td>0</td>\n",
       "      <td>0</td>\n",
       "      <td>0</td>\n",
       "      <td>0</td>\n",
       "      <td>0</td>\n",
       "      <td>0</td>\n",
       "      <td>0</td>\n",
       "      <td>0</td>\n",
       "      <td>0</td>\n",
       "      <td>0</td>\n",
       "      <td>0</td>\n",
       "      <td>0</td>\n",
       "      <td>0</td>\n",
       "      <td>0</td>\n",
       "      <td>0</td>\n",
       "      <td>0</td>\n",
       "      <td>0</td>\n",
       "      <td>0</td>\n",
       "    </tr>\n",
       "    <tr>\n",
       "      <th>0</th>\n",
       "      <td>id_5569</td>\n",
       "      <td>[European, French, International]</td>\n",
       "      <td>5570.0</td>\n",
       "      <td>3.5</td>\n",
       "      <td>2</td>\n",
       "      <td>194.0</td>\n",
       "      <td>[['Good food at your doorstep', 'A good hotel ...</td>\n",
       "      <td>/Restaurant_Review-g187147-d1912643-Reviews-R_...</td>\n",
       "      <td>d1912643</td>\n",
       "      <td>9</td>\n",
       "      <td>0.0</td>\n",
       "      <td>41</td>\n",
       "      <td>1242</td>\n",
       "      <td>0</td>\n",
       "      <td>0</td>\n",
       "      <td>0</td>\n",
       "      <td>0</td>\n",
       "      <td>0</td>\n",
       "      <td>0</td>\n",
       "      <td>0</td>\n",
       "      <td>0</td>\n",
       "      <td>0</td>\n",
       "      <td>0</td>\n",
       "      <td>0</td>\n",
       "      <td>0</td>\n",
       "      <td>...</td>\n",
       "      <td>0</td>\n",
       "      <td>0</td>\n",
       "      <td>0</td>\n",
       "      <td>0</td>\n",
       "      <td>0</td>\n",
       "      <td>0</td>\n",
       "      <td>0</td>\n",
       "      <td>0</td>\n",
       "      <td>0</td>\n",
       "      <td>0</td>\n",
       "      <td>0</td>\n",
       "      <td>0</td>\n",
       "      <td>0</td>\n",
       "      <td>0</td>\n",
       "      <td>0</td>\n",
       "      <td>0</td>\n",
       "      <td>0</td>\n",
       "      <td>0</td>\n",
       "      <td>0</td>\n",
       "      <td>0</td>\n",
       "      <td>0</td>\n",
       "      <td>0</td>\n",
       "      <td>0</td>\n",
       "      <td>0</td>\n",
       "      <td>0</td>\n",
       "    </tr>\n",
       "  </tbody>\n",
       "</table>\n",
       "<p>2 rows × 353 columns</p>\n",
       "</div>"
      ],
      "text/plain": [
       "  restaurant_id                      cuisine_style  ranking  rating  \\\n",
       "0       id_5569  [European, French, International]   5570.0     3.5   \n",
       "0       id_5569  [European, French, International]   5570.0     3.5   \n",
       "\n",
       "   price_range  number_of_reviews  \\\n",
       "0            2              194.0   \n",
       "0            2              194.0   \n",
       "\n",
       "                                             reviews  \\\n",
       "0  [['Good food at your doorstep', 'A good hotel ...   \n",
       "0  [['Good food at your doorstep', 'A good hotel ...   \n",
       "\n",
       "                                              url_ta     id_ta  \\\n",
       "0  /Restaurant_Review-g187147-d1912643-Reviews-R_...  d1912643   \n",
       "0  /Restaurant_Review-g187147-d1912643-Reviews-R_...  d1912643   \n",
       "\n",
       "   count_restaurant  cuisine_count  delta  delta_today  _creole  afghani  \\\n",
       "0                 9            0.0     41         1242        0        0   \n",
       "0                 9            0.0     41         1242        0        0   \n",
       "\n",
       "   african  albanian  american  arabic  argentinean  armenian  asian  \\\n",
       "0        0         0         0       0            0         0      0   \n",
       "0        0         0         0       0            0         0      0   \n",
       "\n",
       "   australian  austrian  azerbaijani  ...  'sri_lankan'  'cambodian'  \\\n",
       "0           0         0            0  ...             0            0   \n",
       "0           0         0            0  ...             0            0   \n",
       "\n",
       "   'albanian'  'new_zealand'  'croatian'  'central_asian'  'filipino'  \\\n",
       "0           0              0           0                0           0   \n",
       "0           0              0           0                0           0   \n",
       "\n",
       "   'tunisian'  'cajun_&_creole'  'romanian'  'georgian'  'polynesian'  \\\n",
       "0           0                 0           0           0             0   \n",
       "0           0                 0           0           0             0   \n",
       "\n",
       "   'azerbaijani'  'caucasian'  'afghani'  'uzbek'  'salvadoran'  'yunnan'  \\\n",
       "0              0            0          0        0             0         0   \n",
       "0              0            0          0        0             0         0   \n",
       "\n",
       "   'native_american'  'canadian'  'xinjiang'  'burmese'  'fujian'  'welsh'  \\\n",
       "0                  0           0           0          0         0        0   \n",
       "0                  0           0           0          0         0        0   \n",
       "\n",
       "   'latvian'  \n",
       "0          0  \n",
       "0          0  \n",
       "\n",
       "[2 rows x 353 columns]"
      ]
     },
     "execution_count": 87,
     "metadata": {},
     "output_type": "execute_result"
    }
   ],
   "source": [
    "df.head(2)\n"
   ]
  },
  {
   "cell_type": "markdown",
   "metadata": {},
   "source": [
    "# Разбиваем датафрейм на части, необходимые для обучения и тестирования модели"
   ]
  },
  {
   "cell_type": "code",
   "execution_count": 88,
   "metadata": {},
   "outputs": [],
   "source": [
    "# Х - данные с информацией о ресторанах, у - целевая переменная (рейтинги ресторанов)\n",
    "X = df.drop(df.select_dtypes(include=['object']), axis = 1)\n",
    "y = df['rating']\n",
    "X = X.drop('rating', axis = 1)\n",
    "\n",
    "# пробуем заменять пропуски на среднее арифмитическое по столбцу\n",
    "X.ranking = X.ranking.fillna(X.ranking.mean())\n",
    "X['number_of_reviews'] = X['number_of_reviews'].fillna(X['number_of_reviews'].mean())\n",
    "y = y.fillna(y.mean())"
   ]
  },
  {
   "cell_type": "markdown",
   "metadata": {},
   "source": [
    "# Создаём, обучаем и тестируем модель"
   ]
  },
  {
   "cell_type": "code",
   "execution_count": 89,
   "metadata": {},
   "outputs": [],
   "source": [
    "def create_train_test(X,y):\n",
    "# Наборы данных с меткой \"train\" будут использоваться для обучения модели, \"test\" - для тестирования.\n",
    "# Для тестирования мы будем использовать 25% от исходного датасета.\n",
    "    X_train, X_test, y_train, y_test = train_test_split(X, y, test_size=0.25)\n",
    "    regr = RandomForestRegressor(n_estimators=100) # Создаём модель\n",
    "    regr.fit(X_train, y_train) # Обучаем модель на тестовом наборе данных\n",
    "\n",
    "# Используем обученную модель для предсказания рейтинга ресторанов в тестовой выборке.\n",
    "# Предсказанные значения записываем в переменную y_pred\n",
    "    y_pred = regr.predict(X_test)\n",
    "\n",
    "# Сравниваем предсказанные значения (y_pred) с реальными (y_test), и смотрим насколько они в среднем отличаются\n",
    "# Метрика называется Mean Absolute Error (MAE) и показывает среднее отклонение предсказанных значений от фактических.\n",
    "    return 'MAE:', metrics.mean_absolute_error(y_test, y_pred)"
   ]
  },
  {
   "cell_type": "code",
   "execution_count": 90,
   "metadata": {},
   "outputs": [
    {
     "data": {
      "text/plain": [
       "('MAE:', 0.08938808189408666)"
      ]
     },
     "execution_count": 90,
     "metadata": {},
     "output_type": "execute_result"
    }
   ],
   "source": [
    "create_train_test(X,y)"
   ]
  },
  {
   "cell_type": "markdown",
   "metadata": {},
   "source": [
    "# 4.1 Вопросы о ценах"
   ]
  },
  {
   "cell_type": "code",
   "execution_count": 39,
   "metadata": {},
   "outputs": [
    {
     "name": "stdout",
     "output_type": "stream",
     "text": [
      "В столбце \"Price Range\" непустых значений встречается 3\n",
      "Самый низкий уровень цен обозначается символом: $\n",
      "Самый высокий уровень цен обозначается символом: $$$$\n",
      "Количество ресторанов, относящихся к среднему ценовому сегменту равно 18412\n"
     ]
    }
   ],
   "source": [
    "# Сколько вариантов непустых значений встречается в столбце Price Range?\n",
    "price = df['price_range'].unique()\n",
    "print('В столбце \"Price Range\" непустых значений встречается ' + str(len(price)-1))\n",
    "\n",
    "# Как в датафрейме обозначается самый низкий уровень цен и самый высокий уровень цен?\n",
    "print('Самый низкий уровень цен обозначается символом: ' + price[3])\n",
    "print('Самый высокий уровень цен обозначается символом: ' + price[2])\n",
    "\n",
    "# Сколько ресторанов относятся к среднему ценовому сегменту?\n",
    "count_mean = df['price_range'].loc[(df['price_range'] == '$$ - $$$')].count()\n",
    "print('Количество ресторанов, относящихся к среднему ценовому сегменту равно '+ str(count_mean))"
   ]
  },
  {
   "cell_type": "markdown",
   "metadata": {},
   "source": [
    "# 4.2 Вопрос о городах"
   ]
  },
  {
   "cell_type": "code",
   "execution_count": 41,
   "metadata": {},
   "outputs": [
    {
     "data": {
      "text/plain": [
       "31"
      ]
     },
     "execution_count": 41,
     "metadata": {},
     "output_type": "execute_result"
    }
   ],
   "source": [
    "# Сколько городов представлено в наборе данных?\n",
    "citys = []\n",
    "for city in df.city:  # начинаем перебор всех городов\n",
    "    if not(city in citys):  # если город ещё не встречался\n",
    "        citys.append(city) # добавляем его к списку citys\n",
    "        \n",
    "len(citys)"
   ]
  },
  {
   "cell_type": "code",
   "execution_count": 62,
   "metadata": {},
   "outputs": [],
   "source": [
    "#Попробуем внести внешние данные, добавим страны и посмотрим, что нам даст.\n",
    "country = {'Paris': 'France', 'Stockholm': 'Sweden', 'London': 'Great_Britain', 'Berlin': 'Germany', 'Munich': 'Germany',\n",
    "           'Oporto': 'Portugal', 'Milan': 'Italy', 'Bratislava': 'Slovakia', 'Vienna': 'Austria', 'Rome': 'Italy', \n",
    "           'Barcelona': 'Spain', 'Madrid': 'Spain', 'Dublin': 'Ireland', 'Brussels': 'Belgium', 'Zurich': 'Switzerland',\n",
    "           'Warsaw': 'Poland', 'Budapest': 'Hungary', 'Copenhagen': 'Denmark', 'Amsterdam': 'Netherlands',\n",
    "           'Lyon': 'France', 'Hamburg': 'Germany', 'Lisbon': 'Portugal', 'Prague': 'Czech', 'Oslo': 'Norway',\n",
    "           'Helsinki': 'Finland', 'Edinburgh': 'Scotland', 'Geneva': 'Switzerland', 'Ljubljana': 'Slovenia',\n",
    "           'Athens': 'Greece', 'Luxembourg': 'Luxembourg', 'Krakow': 'Poland'}\n",
    "df['country'] = df.apply(lambda row: country[row['city']], axis=1)\n",
    "df = pd.get_dummies(df, columns=[ 'country',], dummy_na=True)"
   ]
  },
  {
   "cell_type": "code",
   "execution_count": 63,
   "metadata": {},
   "outputs": [
    {
     "name": "stdout",
     "output_type": "stream",
     "text": [
      "25-й перцентиль: 821.0, 75-й перцентиль: 5575.0, IQR: 4754.0,  Границы выбросов: [-6310.0, 12706.0].\n"
     ]
    },
    {
     "data": {
      "text/plain": [
       "count    104916.000000\n",
       "mean       3330.658794\n",
       "std        3032.962470\n",
       "min         174.000000\n",
       "25%         821.000000\n",
       "50%        2148.000000\n",
       "75%        5575.000000\n",
       "max        8982.000000\n",
       "Name: сity_population, dtype: float64"
      ]
     },
     "metadata": {},
     "output_type": "display_data"
    },
    {
     "name": "stdout",
     "output_type": "stream",
     "text": [
      "Количество заполненных значений - 104916 из 40000\n"
     ]
    },
    {
     "data": {
      "image/png": "[encoded data removed]",
      "text/plain": [
       "<Figure size 432x288 with 1 Axes>"
      ]
     },
     "metadata": {
      "needs_background": "light"
     },
     "output_type": "display_data"
    }
   ],
   "source": [
    "сity_population = dict_Сity_population= {'Paris': 2148, 'Stockholm': 975, 'London': 8982, 'Berlin': 3769, 'Munich': 1472,\n",
    "           'Oporto': 214, 'Milan': 1352, 'Bratislava': 424, 'Vienna': 1897, 'Rome': 2873, \n",
    "           'Barcelona': 5575, 'Madrid': 6642, 'Dublin': 1388, 'Brussels': 174, 'Zurich': 402,\n",
    "           'Warsaw': 1708, 'Budapest': 1752, 'Copenhagen': 602, 'Amsterdam': 821,\n",
    "           'Lyon': 513, 'Hamburg': 1899, 'Lisbon': 504, 'Prague': 1309, 'Oslo': 681,\n",
    "           'Helsinki': 631, 'Edinburgh': 482, 'Geneva': 499, 'Ljubljana': 279,\n",
    "           'Athens': 664, 'Luxembourg': 613, 'Krakow': 769                                        }\n",
    "df['сity_population'] = df.apply(lambda row: сity_population[row['city']], axis = 1)\n",
    "get_emission_filter('сity_population')\n",
    "get_charts_col('сity_population')"
   ]
  },
  {
   "cell_type": "code",
   "execution_count": 64,
   "metadata": {},
   "outputs": [],
   "source": [
    "#создадим колонки с городами и проставим 1, там где находится ресторан, остальноые 0.\n",
    "for item in citys:\n",
    "    df[item] = df['city'].apply(find_item)   \n",
    "    df[item].fillna(0, inplace=True) \n",
    "df = pd.get_dummies(df, columns=[ 'city',], dummy_na=True)"
   ]
  },
  {
   "cell_type": "markdown",
   "metadata": {},
   "source": [
    "# 4.3 Вопросы о кухнях"
   ]
  },
  {
   "cell_type": "code",
   "execution_count": 42,
   "metadata": {},
   "outputs": [
    {
     "data": {
      "text/plain": [
       "125"
      ]
     },
     "execution_count": 42,
     "metadata": {},
     "output_type": "execute_result"
    }
   ],
   "source": [
    "# Сколько типов кухонь представлено в наборе данных?\n",
    "сuisines = []\n",
    "filtr_сuisine = df['cuisine_style'].dropna(how='any')\n",
    "for сuisine in filtr_сuisine:\n",
    "    сuisine = сuisine[1:-1].replace(\", \", \",\")\n",
    "    сuisine = сuisine.split(',')\n",
    "    for cuis in сuisine:\n",
    "        if not(cuis in сuisines):  # если город ещё не встречался\n",
    "            сuisines.append(cuis) # добавляем его к списку citys\n",
    "            \n",
    "len(сuisines)"
   ]
  },
  {
   "cell_type": "code",
   "execution_count": 43,
   "metadata": {},
   "outputs": [
    {
     "data": {
      "text/plain": [
       "\"'Vegetarian Friendly'\""
      ]
     },
     "execution_count": 43,
     "metadata": {},
     "output_type": "execute_result"
    }
   ],
   "source": [
    "# Какая кухня представлена в наибольшем количестве ресторанов?\n",
    "\n",
    "search_сuisine = pd.Series()\n",
    "for сuisine in сuisines:\n",
    "    search_сuisine[сuisine] = df['cuisine_style'].str.contains(\n",
    "        сuisine, na=False).value_counts()[True]\n",
    "\n",
    "search_сuisine = pd.Series(search_сuisine)\n",
    "search_сuisine.sort_values(ascending=False).index[0]"
   ]
  },
  {
   "cell_type": "code",
   "execution_count": 59,
   "metadata": {},
   "outputs": [
    {
     "data": {
      "text/plain": [
       "'Vegetarian Friendly'    11189\n",
       "'European'               10060\n",
       "'Mediterranean'           6277\n",
       "'Italian'                 5964\n",
       "'Vegan Options'           4486\n",
       "                         ...  \n",
       "'Salvadoran'                 1\n",
       "'Yunnan'                     1\n",
       "'Xinjiang'                   1\n",
       "'Burmese'                    1\n",
       "'Latvian'                    1\n",
       "Length: 125, dtype: int64"
      ]
     },
     "execution_count": 59,
     "metadata": {},
     "output_type": "execute_result"
    }
   ],
   "source": [
    "search_сuisine.sort_values(ascending=False)"
   ]
  },
  {
   "cell_type": "code",
   "execution_count": 66,
   "metadata": {},
   "outputs": [
    {
     "data": {
      "text/plain": [
       "1.0"
      ]
     },
     "execution_count": 66,
     "metadata": {},
     "output_type": "execute_result"
    }
   ],
   "source": [
    "# Какое среднее количество кухонь предлагается в одном ресторане? \n",
    "restoran_сuisine = df['cuisine_style'].str.count(',')+1\n",
    "restoran_сuisine = restoran_сuisine.fillna(1)\n",
    "round(restoran_сuisine.mean(),1)"
   ]
  },
  {
   "cell_type": "markdown",
   "metadata": {},
   "source": [
    "# 4.4 Вопросы об отзывах"
   ]
  },
  {
   "cell_type": "code",
   "execution_count": 67,
   "metadata": {},
   "outputs": [
    {
     "name": "stdout",
     "output_type": "stream",
     "text": [
      "2018-02-26\n",
      "2018-02-26\n"
     ]
    }
   ],
   "source": [
    "# Когда был оставлен самый свежий отзыв? \n",
    "reviews = pd.DataFrame([re.findall(r'\\d{2}/\\d{2}/\\d{4}', x) for x in df.reviews]) #отбираю только даты\n",
    "reviews.columns = ['data1', 'data2']\n",
    "reviews.fillna('01/01/2000', inplace=True)\n",
    "reviews['data1'] = pd.to_datetime(reviews['data1'])\n",
    "reviews['data2'] = pd.to_datetime(reviews['data2'])\n",
    "print(reviews.data1.max().strftime('%Y-%m-%d'))\n",
    "print(reviews.data2.max().strftime('%Y-%m-%d'))"
   ]
  },
  {
   "cell_type": "code",
   "execution_count": 68,
   "metadata": {
    "scrolled": true
   },
   "outputs": [
    {
     "data": {
      "text/plain": [
       "False    104916\n",
       "Name: data2, dtype: int64"
      ]
     },
     "execution_count": 68,
     "metadata": {},
     "output_type": "execute_result"
    }
   ],
   "source": [
    "reviews.data2.isna().value_counts()"
   ]
  },
  {
   "cell_type": "code",
   "execution_count": 69,
   "metadata": {},
   "outputs": [
    {
     "data": {
      "text/plain": [
       "0"
      ]
     },
     "execution_count": 69,
     "metadata": {},
     "output_type": "execute_result"
    }
   ],
   "source": [
    "reviews.data1.isnull().sum()"
   ]
  },
  {
   "cell_type": "code",
   "execution_count": 70,
   "metadata": {},
   "outputs": [
    {
     "name": "stdout",
     "output_type": "stream",
     "text": [
      "6628 days 00:00:00\n"
     ]
    }
   ],
   "source": [
    "#Какое максимальное количество дней отделяет даты публикации отзывов, размещённых на \n",
    "#сайте ресторана? \n",
    "reviews['data0'] = reviews.data1 - reviews.data2\n",
    "print(reviews.data0.max())"
   ]
  },
  {
   "cell_type": "code",
   "execution_count": 71,
   "metadata": {},
   "outputs": [
    {
     "name": "stdout",
     "output_type": "stream",
     "text": [
      "25-й перцентиль: 9.0, 75-й перцентиль: 142.0, IQR: 133.0,  Границы выбросов: [-190.5, 341.5].\n"
     ]
    },
    {
     "data": {
      "text/plain": [
       "count    104916.000000\n",
       "mean        489.385871\n",
       "std        1499.218145\n",
       "min           0.000000\n",
       "25%           9.000000\n",
       "50%          43.000000\n",
       "75%         142.000000\n",
       "max        6626.000000\n",
       "Name: delta, dtype: float64"
      ]
     },
     "metadata": {},
     "output_type": "display_data"
    },
    {
     "name": "stdout",
     "output_type": "stream",
     "text": [
      "Количество заполненных значений - 104916 из 40000\n"
     ]
    },
    {
     "data": {
      "image/png": "[encoded data removed]",
      "text/plain": [
       "<Figure size 432x288 with 1 Axes>"
      ]
     },
     "metadata": {
      "needs_background": "light"
     },
     "output_type": "display_data"
    }
   ],
   "source": [
    "# создадим столбец с разницей последнего отзыва и текущей датой\n",
    "df['delta'] = abs((reviews.data1 - reviews.data2).dt.days)\n",
    "get_emission_filter('delta')\n",
    "get_charts_col('delta')"
   ]
  },
  {
   "cell_type": "code",
   "execution_count": 72,
   "metadata": {},
   "outputs": [
    {
     "name": "stdout",
     "output_type": "stream",
     "text": [
      "25-й перцентиль: 1252.0, 75-й перцентиль: 1475.0, IQR: 223.0,  Границы выбросов: [917.5, 1809.5].\n"
     ]
    },
    {
     "data": {
      "text/plain": [
       "count    104916.000000\n",
       "mean       1944.471501\n",
       "std        1820.217513\n",
       "min        1185.000000\n",
       "25%        1252.000000\n",
       "50%        1312.000000\n",
       "75%        1475.000000\n",
       "max        7816.000000\n",
       "Name: delta_today, dtype: float64"
      ]
     },
     "metadata": {},
     "output_type": "display_data"
    },
    {
     "name": "stdout",
     "output_type": "stream",
     "text": [
      "Количество заполненных значений - 104916 из 40000\n"
     ]
    },
    {
     "data": {
      "image/png": "[encoded data removed]",
      "text/plain": [
       "<Figure size 432x288 with 1 Axes>"
      ]
     },
     "metadata": {
      "needs_background": "light"
     },
     "output_type": "display_data"
    }
   ],
   "source": [
    "today = pd.to_datetime(datetime.now())\n",
    "reviews['delta_today'] = reviews.apply(lambda row: (today - row.data1).days if row.data1 > row.data2 else (today - row.data2).days, axis=1)\n",
    "df['delta_today'] = reviews['delta_today']\n",
    "get_emission_filter('delta_today')\n",
    "get_charts_col('delta_today')"
   ]
  },
  {
   "cell_type": "code",
   "execution_count": 73,
   "metadata": {},
   "outputs": [
    {
     "data": {
      "text/html": [
       "<div>\n",
       "<style scoped>\n",
       "    .dataframe tbody tr th:only-of-type {\n",
       "        vertical-align: middle;\n",
       "    }\n",
       "\n",
       "    .dataframe tbody tr th {\n",
       "        vertical-align: top;\n",
       "    }\n",
       "\n",
       "    .dataframe thead th {\n",
       "        text-align: right;\n",
       "    }\n",
       "</style>\n",
       "<table border=\"1\" class=\"dataframe\">\n",
       "  <thead>\n",
       "    <tr style=\"text-align: right;\">\n",
       "      <th></th>\n",
       "      <th>restaurant_id</th>\n",
       "      <th>cuisine_style</th>\n",
       "      <th>ranking</th>\n",
       "      <th>rating</th>\n",
       "      <th>price_range</th>\n",
       "      <th>number_of_reviews</th>\n",
       "      <th>reviews</th>\n",
       "      <th>url_ta</th>\n",
       "      <th>id_ta</th>\n",
       "      <th>count_restaurant</th>\n",
       "      <th>cuisine_count</th>\n",
       "      <th>delta</th>\n",
       "      <th>delta_today</th>\n",
       "      <th>Creole</th>\n",
       "      <th>Afghani</th>\n",
       "      <th>African</th>\n",
       "      <th>Albanian</th>\n",
       "      <th>American</th>\n",
       "      <th>Arabic</th>\n",
       "      <th>Argentinean</th>\n",
       "      <th>Armenian</th>\n",
       "      <th>Asian</th>\n",
       "      <th>Australian</th>\n",
       "      <th>Austrian</th>\n",
       "      <th>Azerbaijani</th>\n",
       "      <th>...</th>\n",
       "      <th>'Sri Lankan'</th>\n",
       "      <th>'Cambodian'</th>\n",
       "      <th>'Albanian'</th>\n",
       "      <th>'New Zealand'</th>\n",
       "      <th>'Croatian'</th>\n",
       "      <th>'Central Asian'</th>\n",
       "      <th>'Filipino'</th>\n",
       "      <th>'Tunisian'</th>\n",
       "      <th>'Cajun &amp; Creole'</th>\n",
       "      <th>'Romanian'</th>\n",
       "      <th>'Georgian'</th>\n",
       "      <th>'Polynesian'</th>\n",
       "      <th>'Azerbaijani'</th>\n",
       "      <th>'Caucasian'</th>\n",
       "      <th>'Afghani'</th>\n",
       "      <th>'Uzbek'</th>\n",
       "      <th>'Salvadoran'</th>\n",
       "      <th>'Yunnan'</th>\n",
       "      <th>'Native American'</th>\n",
       "      <th>'Canadian'</th>\n",
       "      <th>'Xinjiang'</th>\n",
       "      <th>'Burmese'</th>\n",
       "      <th>'Fujian'</th>\n",
       "      <th>'Welsh'</th>\n",
       "      <th>'Latvian'</th>\n",
       "    </tr>\n",
       "  </thead>\n",
       "  <tbody>\n",
       "    <tr>\n",
       "      <th>0</th>\n",
       "      <td>id_5569</td>\n",
       "      <td>[European, French, International]</td>\n",
       "      <td>5570.0</td>\n",
       "      <td>3.5</td>\n",
       "      <td>2</td>\n",
       "      <td>194.0</td>\n",
       "      <td>[['Good food at your doorstep', 'A good hotel ...</td>\n",
       "      <td>/Restaurant_Review-g187147-d1912643-Reviews-R_...</td>\n",
       "      <td>d1912643</td>\n",
       "      <td>3</td>\n",
       "      <td>3.0</td>\n",
       "      <td>41</td>\n",
       "      <td>1242</td>\n",
       "      <td>0</td>\n",
       "      <td>0</td>\n",
       "      <td>0</td>\n",
       "      <td>0</td>\n",
       "      <td>0</td>\n",
       "      <td>0</td>\n",
       "      <td>0</td>\n",
       "      <td>0</td>\n",
       "      <td>0</td>\n",
       "      <td>0</td>\n",
       "      <td>0</td>\n",
       "      <td>0</td>\n",
       "      <td>...</td>\n",
       "      <td>0</td>\n",
       "      <td>0</td>\n",
       "      <td>0</td>\n",
       "      <td>0</td>\n",
       "      <td>0</td>\n",
       "      <td>0</td>\n",
       "      <td>0</td>\n",
       "      <td>0</td>\n",
       "      <td>0</td>\n",
       "      <td>0</td>\n",
       "      <td>0</td>\n",
       "      <td>0</td>\n",
       "      <td>0</td>\n",
       "      <td>0</td>\n",
       "      <td>0</td>\n",
       "      <td>0</td>\n",
       "      <td>0</td>\n",
       "      <td>0</td>\n",
       "      <td>0</td>\n",
       "      <td>0</td>\n",
       "      <td>0</td>\n",
       "      <td>0</td>\n",
       "      <td>0</td>\n",
       "      <td>0</td>\n",
       "      <td>0</td>\n",
       "    </tr>\n",
       "    <tr>\n",
       "      <th>0</th>\n",
       "      <td>id_5569</td>\n",
       "      <td>[European, French, International]</td>\n",
       "      <td>5570.0</td>\n",
       "      <td>3.5</td>\n",
       "      <td>2</td>\n",
       "      <td>194.0</td>\n",
       "      <td>[['Good food at your doorstep', 'A good hotel ...</td>\n",
       "      <td>/Restaurant_Review-g187147-d1912643-Reviews-R_...</td>\n",
       "      <td>d1912643</td>\n",
       "      <td>3</td>\n",
       "      <td>3.0</td>\n",
       "      <td>41</td>\n",
       "      <td>1242</td>\n",
       "      <td>0</td>\n",
       "      <td>0</td>\n",
       "      <td>0</td>\n",
       "      <td>0</td>\n",
       "      <td>0</td>\n",
       "      <td>0</td>\n",
       "      <td>0</td>\n",
       "      <td>0</td>\n",
       "      <td>0</td>\n",
       "      <td>0</td>\n",
       "      <td>0</td>\n",
       "      <td>0</td>\n",
       "      <td>...</td>\n",
       "      <td>0</td>\n",
       "      <td>0</td>\n",
       "      <td>0</td>\n",
       "      <td>0</td>\n",
       "      <td>0</td>\n",
       "      <td>0</td>\n",
       "      <td>0</td>\n",
       "      <td>0</td>\n",
       "      <td>0</td>\n",
       "      <td>0</td>\n",
       "      <td>0</td>\n",
       "      <td>0</td>\n",
       "      <td>0</td>\n",
       "      <td>0</td>\n",
       "      <td>0</td>\n",
       "      <td>0</td>\n",
       "      <td>0</td>\n",
       "      <td>0</td>\n",
       "      <td>0</td>\n",
       "      <td>0</td>\n",
       "      <td>0</td>\n",
       "      <td>0</td>\n",
       "      <td>0</td>\n",
       "      <td>0</td>\n",
       "      <td>0</td>\n",
       "    </tr>\n",
       "  </tbody>\n",
       "</table>\n",
       "<p>2 rows × 353 columns</p>\n",
       "</div>"
      ],
      "text/plain": [
       "  restaurant_id                      cuisine_style  ranking  rating  \\\n",
       "0       id_5569  [European, French, International]   5570.0     3.5   \n",
       "0       id_5569  [European, French, International]   5570.0     3.5   \n",
       "\n",
       "   price_range  number_of_reviews  \\\n",
       "0            2              194.0   \n",
       "0            2              194.0   \n",
       "\n",
       "                                             reviews  \\\n",
       "0  [['Good food at your doorstep', 'A good hotel ...   \n",
       "0  [['Good food at your doorstep', 'A good hotel ...   \n",
       "\n",
       "                                              url_ta     id_ta  \\\n",
       "0  /Restaurant_Review-g187147-d1912643-Reviews-R_...  d1912643   \n",
       "0  /Restaurant_Review-g187147-d1912643-Reviews-R_...  d1912643   \n",
       "\n",
       "   count_restaurant  cuisine_count  delta  delta_today   Creole  Afghani  \\\n",
       "0                 3            3.0     41         1242        0        0   \n",
       "0                 3            3.0     41         1242        0        0   \n",
       "\n",
       "   African  Albanian  American  Arabic  Argentinean  Armenian  Asian  \\\n",
       "0        0         0         0       0            0         0      0   \n",
       "0        0         0         0       0            0         0      0   \n",
       "\n",
       "   Australian  Austrian  Azerbaijani  ...  'Sri Lankan'  'Cambodian'  \\\n",
       "0           0         0            0  ...             0            0   \n",
       "0           0         0            0  ...             0            0   \n",
       "\n",
       "   'Albanian'  'New Zealand'  'Croatian'  'Central Asian'  'Filipino'  \\\n",
       "0           0              0           0                0           0   \n",
       "0           0              0           0                0           0   \n",
       "\n",
       "   'Tunisian'  'Cajun & Creole'  'Romanian'  'Georgian'  'Polynesian'  \\\n",
       "0           0                 0           0           0             0   \n",
       "0           0                 0           0           0             0   \n",
       "\n",
       "   'Azerbaijani'  'Caucasian'  'Afghani'  'Uzbek'  'Salvadoran'  'Yunnan'  \\\n",
       "0              0            0          0        0             0         0   \n",
       "0              0            0          0        0             0         0   \n",
       "\n",
       "   'Native American'  'Canadian'  'Xinjiang'  'Burmese'  'Fujian'  'Welsh'  \\\n",
       "0                  0           0           0          0         0        0   \n",
       "0                  0           0           0          0         0        0   \n",
       "\n",
       "   'Latvian'  \n",
       "0          0  \n",
       "0          0  \n",
       "\n",
       "[2 rows x 353 columns]"
      ]
     },
     "execution_count": 73,
     "metadata": {},
     "output_type": "execute_result"
    }
   ],
   "source": [
    "df.head(2)"
   ]
  },
  {
   "cell_type": "markdown",
   "metadata": {},
   "source": [
    "# Задание 4.5 Итоги шага"
   ]
  },
  {
   "cell_type": "code",
   "execution_count": 74,
   "metadata": {},
   "outputs": [],
   "source": [
    "# Х - данные с информацией о ресторанах, у - целевая переменная (рейтинги ресторанов)\n",
    "X = df.drop(df.select_dtypes(include=['object']), axis = 1)\n",
    "y = df['rating']\n",
    "X = X.drop(['rating'], axis = 1)"
   ]
  },
  {
   "cell_type": "code",
   "execution_count": 75,
   "metadata": {},
   "outputs": [
    {
     "name": "stdout",
     "output_type": "stream",
     "text": [
      "<class 'pandas.core.frame.DataFrame'>\n",
      "Int64Index: 104916 entries, 0 to 39999\n",
      "Columns: 347 entries, ranking to 'Latvian'\n",
      "dtypes: float64(3), int64(161), uint8(183)\n",
      "memory usage: 152.9 MB\n"
     ]
    }
   ],
   "source": [
    "X.info()"
   ]
  },
  {
   "cell_type": "code",
   "execution_count": 76,
   "metadata": {},
   "outputs": [
    {
     "data": {
      "text/plain": [
       "('MAE:', 0.08832189561172743)"
      ]
     },
     "execution_count": 76,
     "metadata": {},
     "output_type": "execute_result"
    }
   ],
   "source": [
    "create_train_test(X,y)"
   ]
  },
  {
   "cell_type": "code",
   "execution_count": null,
   "metadata": {},
   "outputs": [],
   "source": []
  }
 ],
 "metadata": {
  "kernelspec": {
   "display_name": "Python 3",
   "language": "python",
   "name": "python3"
  },
  "language_info": {
   "codemirror_mode": {
    "name": "ipython",
    "version": 3
   },
   "file_extension": ".py",
   "mimetype": "text/x-python",
   "name": "python",
   "nbconvert_exporter": "python",
   "pygments_lexer": "ipython3",
   "version": "3.8.5"
  }
 },
 "nbformat": 4,
 "nbformat_minor": 4
}
